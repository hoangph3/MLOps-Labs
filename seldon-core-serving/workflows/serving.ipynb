{
 "cells": [
  {
   "cell_type": "markdown",
   "metadata": {},
   "source": [
    "# Deploying Various MNIST Models on Kubernetes\n",
    "\n",
    "This notebook will show various rolling deployments of the trained models:\n",
    "- Single model\n",
    "- AB Test between 2 models\n",
    "- Multi-Armed Bandit over 2 models\n",
    "\n",
    "Using:\n",
    "- kubeflow\n",
    "- seldon-core"
   ]
  },
  {
   "cell_type": "markdown",
   "metadata": {},
   "source": [
    "# Setup\n",
    "\n",
    "**Ensure you have expose the LoadBalancer external IP**\n",
    "\n",
    "```bash\n",
    "$ minikube tunnel\n",
    "Status:\t\n",
    "\tmachine: minikube\n",
    "\tpid: 22293\n",
    "\troute: 10.96.0.0/12 -> 192.168.0.5\n",
    "\tminikube: Running\n",
    "\tservices: [istio-ingressgateway]\n",
    "    errors: \n",
    "\t\tminikube: no errors\n",
    "\t\trouter: no errors\n",
    "\t\tloadbalancer emulator: no errors\n",
    "\n",
    "$ export INGRESS_HOST=$(kubectl -n istio-system get service istio-ingressgateway -o jsonpath='{.status.loadBalancer.ingress[0].ip}')\n",
    "\n",
    "$ echo $INGRESS_HOST\n",
    "10.106.254.233\n",
    "```"
   ]
  },
  {
   "cell_type": "code",
   "execution_count": 144,
   "metadata": {},
   "outputs": [],
   "source": [
    "%matplotlib inline\n",
    "\n",
    "import requests\n",
    "from requests.auth import HTTPBasicAuth\n",
    "from seldon_core.proto import prediction_pb2\n",
    "from seldon_core.proto import prediction_pb2_grpc\n",
    "import tensorflow as tf\n",
    "import grpc\n",
    "import json\n",
    "from matplotlib import pyplot as plt\n",
    "import numpy as np\n",
    "from google.protobuf.json_format import MessageToJson\n",
    "\n",
    "\n",
    "INGRESS_HOST=\"10.106.254.233\"\n",
    "\n",
    "\n",
    "def rest_request_auth(namespace, deployment, data, username, password):\n",
    "    url = f\"http://{INGRESS_HOST}/seldon/{namespace}/{deployment}/api/v1.0/predictions\"\n",
    "    payload = {\"data\":{\"ndarray\":data.tolist()}}\n",
    "    response = requests.post(url, json=payload, auth=HTTPBasicAuth(username, password))\n",
    "    print(response.status_code)\n",
    "    return response.json()   \n",
    "\n",
    "\n",
    "def send_feedback_rest(namespace, deployment, request, response, reward):\n",
    "    feedback = {\n",
    "        \"request\": request,\n",
    "        \"response\": response,\n",
    "        \"reward\": reward\n",
    "    }\n",
    "    url = f\"http://{INGRESS_HOST}/seldon/{namespace}/{deployment}/api/v1.0/feedback\"\n",
    "    response = requests.post(url, json=feedback)\n",
    "    return response.text\n",
    "\n",
    "\n",
    "def gen_image(arr):\n",
    "    plt.figure(figsize=(2,1))\n",
    "    two_d = (np.reshape(arr, (28, 28)) * 255).astype(np.uint8)\n",
    "    plt.imshow(two_d,cmap=plt.cm.gray_r, interpolation='nearest')\n",
    "    return plt\n",
    "\n",
    "\n",
    "def predict_rest_mnist(namespace='seldon-model', deployment=\"mnist-classifier\", data=None):\n",
    "    gen_image(data).show()\n",
    "    data = tf.reshape(data, (1,784))\n",
    "    features = [\"X\"+str(i+1) for i in range (0,784)]\n",
    "    request = {\"data\":{\"names\":features,\"ndarray\":data.numpy().tolist()}}\n",
    "    predictions = requests.post(f\"http://{INGRESS_HOST}/seldon/{namespace}/{deployment}/api/v1.0/predictions\",\n",
    "                             json=request).json()\n",
    "    print(\"Response:\", predictions)\n",
    "    print(\"Prediction:\", np.argmax(predictions[\"data\"][\"ndarray\"]))\n",
    "\n",
    "    \n",
    "def predict_grpc_mnist(namespace='seldon-model', deployment=\"mnist-classifier\", data=None):\n",
    "    gen_image(data).show()\n",
    "    data = tf.reshape(data, (784))\n",
    "    datadef = prediction_pb2.DefaultData(\n",
    "            names = [\"a\",\"b\"],\n",
    "            tensor = prediction_pb2.Tensor(\n",
    "                shape = [1,784],\n",
    "                values = data\n",
    "                )\n",
    "            )\n",
    "    request = prediction_pb2.SeldonMessage(data=datadef)\n",
    "    channel = grpc.insecure_channel(f\"{INGRESS_HOST}:80\")\n",
    "    stub = prediction_pb2_grpc.SeldonStub(channel)\n",
    "    metadata = [('seldon',deployment), ('namespace',namespace)]\n",
    "    response = stub.Predict(request=request,metadata=metadata)\n",
    "    predictions = MessageToJson(response) # str\n",
    "    predictions = json.loads(predictions)\n",
    "    print(\"Response:\", predictions)\n",
    "    print(\"Prediction:\", np.argmax(predictions[\"data\"][\"tensor\"][\"values\"]))"
   ]
  },
  {
   "cell_type": "code",
   "execution_count": 145,
   "metadata": {},
   "outputs": [
    {
     "name": "stdout",
     "output_type": "stream",
     "text": [
      "(1, 784)\n"
     ]
    }
   ],
   "source": [
    "with open(\"payload.json\") as f:\n",
    "    data = json.load(f)\n",
    "data = np.array(data[\"data\"][\"ndarray\"])\n",
    "print(data.shape)"
   ]
  },
  {
   "cell_type": "markdown",
   "metadata": {},
   "source": [
    "# Deploy Single Tensorflow Model"
   ]
  },
  {
   "cell_type": "code",
   "execution_count": 146,
   "metadata": {},
   "outputs": [
    {
     "name": "stdout",
     "output_type": "stream",
     "text": [
      "seldondeployment.machinelearning.seldon.io/mnist-classifier created\r\n"
     ]
    }
   ],
   "source": [
    "!kubectl apply -f components_spec/serving_model.yml"
   ]
  },
  {
   "cell_type": "code",
   "execution_count": 152,
   "metadata": {},
   "outputs": [
    {
     "name": "stdout",
     "output_type": "stream",
     "text": [
      "NAME                                                            READY   STATUS    RESTARTS   AGE\r\n",
      "mnist-classifier-mnist-classifier-0-tf-model-587554bc88-cmzct   3/3     Running   0          29s\r\n"
     ]
    }
   ],
   "source": [
    "!kubectl get pods -n seldon-model"
   ]
  },
  {
   "cell_type": "code",
   "execution_count": 155,
   "metadata": {
    "scrolled": false
   },
   "outputs": [
    {
     "data": {
      "image/png": "[encoded data removed]",
      "text/plain": [
       "<Figure size 200x100 with 1 Axes>"
      ]
     },
     "metadata": {},
     "output_type": "display_data"
    },
    {
     "name": "stdout",
     "output_type": "stream",
     "text": [
      "Response: {'data': {'names': ['t:0', 't:1', 't:2', 't:3', 't:4', 't:5', 't:6', 't:7', 't:8', 't:9'], 'ndarray': [[3.195868492126465, -7.452676296234131, 5.716387748718262, -3.8307650089263916, 0.4197545349597931, 0.11819814890623093, 11.687692642211914, -5.1460957527160645, -0.1615648865699768, -1.3310203552246094]]}, 'meta': {'requestPath': {'tf-model': 'hoangph3/tf_mnist_serving:v0.0.1'}}}\n",
      "Prediction: 6\n"
     ]
    },
    {
     "data": {
      "image/png": "[encoded data removed]",
      "text/plain": [
       "<Figure size 200x100 with 1 Axes>"
      ]
     },
     "metadata": {},
     "output_type": "display_data"
    },
    {
     "name": "stdout",
     "output_type": "stream",
     "text": [
      "Response: {'meta': {'requestPath': {'tf-model': 'hoangph3/tf_mnist_serving:v0.0.1'}}, 'data': {'names': ['t:0', 't:1', 't:2', 't:3', 't:4', 't:5', 't:6', 't:7', 't:8', 't:9'], 'tensor': {'shape': [1, 10], 'values': [3.195868492126465, -7.452676296234131, 5.716387748718262, -3.8307650089263916, 0.4197545349597931, 0.11819814890623093, 11.687692642211914, -5.1460957527160645, -0.1615648865699768, -1.3310203552246094]}}}\n",
      "Prediction: 6\n"
     ]
    },
    {
     "data": {
      "text/plain": [
       "(None, None)"
      ]
     },
     "execution_count": 155,
     "metadata": {},
     "output_type": "execute_result"
    }
   ],
   "source": [
    "predict_rest_mnist(data=data), predict_grpc_mnist(data=data)"
   ]
  },
  {
   "cell_type": "code",
   "execution_count": 156,
   "metadata": {},
   "outputs": [
    {
     "name": "stdout",
     "output_type": "stream",
     "text": [
      "seldondeployment.machinelearning.seldon.io \"mnist-classifier\" deleted\r\n"
     ]
    }
   ],
   "source": [
    "!kubectl delete -f components_spec/serving_model.yml"
   ]
  },
  {
   "cell_type": "markdown",
   "metadata": {},
   "source": [
    "# Rolling update to AB Test\n",
    " Run an AB Test between 2 models:\n",
    "  * Tensorflow neural network model\n",
    "  * Scikit-learn random forest."
   ]
  },
  {
   "cell_type": "code",
   "execution_count": 157,
   "metadata": {},
   "outputs": [
    {
     "name": "stdout",
     "output_type": "stream",
     "text": [
      "seldondeployment.machinelearning.seldon.io/mnist-classifier created\r\n"
     ]
    }
   ],
   "source": [
    "!kubectl apply -f components_spec/ab_test_sklearn_tensorflow.yml"
   ]
  },
  {
   "cell_type": "code",
   "execution_count": 160,
   "metadata": {},
   "outputs": [
    {
     "name": "stdout",
     "output_type": "stream",
     "text": [
      "NAME                                                              READY   STATUS    RESTARTS   AGE\r\n",
      "mnist-classifier-mnist-classifier-0-tf-model-sk-model-88dczl9wz   4/4     Running   0          27s\r\n"
     ]
    }
   ],
   "source": [
    "!kubectl get pods -n seldon-model"
   ]
  },
  {
   "cell_type": "code",
   "execution_count": 162,
   "metadata": {},
   "outputs": [
    {
     "data": {
      "image/png": "[encoded data removed]",
      "text/plain": [
       "<Figure size 200x100 with 1 Axes>"
      ]
     },
     "metadata": {},
     "output_type": "display_data"
    },
    {
     "name": "stdout",
     "output_type": "stream",
     "text": [
      "Response: {'data': {'names': ['t:0', 't:1', 't:2', 't:3', 't:4', 't:5', 't:6', 't:7', 't:8', 't:9'], 'ndarray': [[3.195868492126465, -7.452676296234131, 5.716387748718262, -3.8307650089263916, 0.4197545349597931, 0.11819814890623093, 11.687692642211914, -5.1460957527160645, -0.1615648865699768, -1.3310203552246094]]}, 'meta': {'requestPath': {'tf-model': 'hoangph3/tf_mnist_serving:v0.0.1'}}}\n",
      "Prediction: 6\n"
     ]
    },
    {
     "data": {
      "image/png": "[encoded data removed]",
      "text/plain": [
       "<Figure size 200x100 with 1 Axes>"
      ]
     },
     "metadata": {},
     "output_type": "display_data"
    },
    {
     "name": "stdout",
     "output_type": "stream",
     "text": [
      "Response: {'data': {'names': ['t:0', 't:1', 't:2', 't:3', 't:4', 't:5', 't:6', 't:7', 't:8', 't:9'], 'ndarray': [[0.06666666666666667, 0.06666666666666667, 0.06666666666666667, 0.06666666666666667, 0.2, 0.3333333333333333, 0.06666666666666667, 0.06666666666666667, 0.0, 0.06666666666666667]]}, 'meta': {'requestPath': {'sk-model': 'hoangph3/sk_mnist_serving:v0.0.1'}}}\n",
      "Prediction: 5\n"
     ]
    },
    {
     "data": {
      "text/plain": [
       "(None, None)"
      ]
     },
     "execution_count": 162,
     "metadata": {},
     "output_type": "execute_result"
    }
   ],
   "source": [
    "predict_rest_mnist(data=data), predict_rest_mnist(data=data)"
   ]
  },
  {
   "cell_type": "code",
   "execution_count": 164,
   "metadata": {},
   "outputs": [
    {
     "name": "stdout",
     "output_type": "stream",
     "text": [
      "seldondeployment.machinelearning.seldon.io \"mnist-classifier\" deleted\r\n"
     ]
    }
   ],
   "source": [
    "!kubectl delete -f components_spec/ab_test_sklearn_tensorflow.yml"
   ]
  },
  {
   "cell_type": "markdown",
   "metadata": {},
   "source": [
    "# Rolling Update to Canary\n",
    " "
   ]
  },
  {
   "cell_type": "markdown",
   "metadata": {},
   "source": [
    "Firstly, we will create a Seldon Deployment with a model image `hoangph3/tf_mnist_serving:v0.0.1`. This deployment is named `example`."
   ]
  },
  {
   "cell_type": "markdown",
   "metadata": {},
   "source": [
    "```yaml\n",
    "apiVersion: machinelearning.seldon.io/v1alpha2\n",
    "kind: SeldonDeployment\n",
    "metadata:\n",
    "  labels:\n",
    "    app: seldon\n",
    "  name: example\n",
    "  namespace: seldon-model\n",
    "spec:\n",
    "  name: canary-example\n",
    "  predictors:\n",
    "  - componentSpecs:\n",
    "    - spec:\n",
    "        containers:\n",
    "        - image: hoangph3/tf_mnist_serving:v0.0.1\n",
    "          imagePullPolicy: IfNotPresent\n",
    "          name: classifier\n",
    "          volumeMounts:\n",
    "          - mountPath: \"/models\"\n",
    "            name: persistent-storage\n",
    "        terminationGracePeriodSeconds: 1\n",
    "        volumes:\n",
    "        - name: persistent-storage\n",
    "          persistentVolumeClaim:\n",
    "            claimName: nfs-1\n",
    "    graph:\n",
    "      children: []\n",
    "      endpoint:\n",
    "        type: REST\n",
    "      name: classifier\n",
    "      type: MODEL\n",
    "    name: main\n",
    "    replicas: 1\n",
    "```"
   ]
  },
  {
   "cell_type": "code",
   "execution_count": 166,
   "metadata": {},
   "outputs": [
    {
     "name": "stdout",
     "output_type": "stream",
     "text": [
      "seldondeployment.machinelearning.seldon.io/example unchanged\r\n"
     ]
    }
   ],
   "source": [
    "!kubectl apply -f components_spec/main_model.yml"
   ]
  },
  {
   "cell_type": "code",
   "execution_count": 172,
   "metadata": {},
   "outputs": [
    {
     "name": "stdout",
     "output_type": "stream",
     "text": [
      "NAME                                        READY   STATUS    RESTARTS   AGE\r\n",
      "example-main-0-classifier-855b658b6-pnzwn   3/3     Running   0          36s\r\n"
     ]
    }
   ],
   "source": [
    "!kubectl get pods -n seldon-model"
   ]
  },
  {
   "cell_type": "code",
   "execution_count": 173,
   "metadata": {},
   "outputs": [
    {
     "name": "stdout",
     "output_type": "stream",
     "text": [
      "{'data': {'names': ['t:0', 't:1', 't:2', 't:3', 't:4', 't:5', 't:6', 't:7', 't:8', 't:9'], 'tensor': {'shape': [1, 10], 'values': [3.195868492126465, -7.452676296234131, 5.716387748718262, -3.8307650089263916, 0.4197545349597931, 0.11819814890623093, 11.687692642211914, -5.1460957527160645, -0.1615648865699768, -1.3310203552246094]}}, 'meta': {'requestPath': {'classifier': 'hoangph3/tf_mnist_serving:v0.0.1'}}}\n"
     ]
    }
   ],
   "source": [
    "from seldon_core.seldon_client import SeldonClient\n",
    "sc = SeldonClient(\n",
    "    deployment_name=\"example\", namespace=\"seldon-model\", gateway_endpoint=f\"{INGRESS_HOST}:80\", gateway='istio'\n",
    ")\n",
    "r = sc.predict(transport=\"rest\", data=data)\n",
    "assert r.success == True\n",
    "print(r.response)"
   ]
  },
  {
   "cell_type": "markdown",
   "metadata": {},
   "source": [
    "Now we will launch the canary\n",
    "```yaml\n",
    "apiVersion: machinelearning.seldon.io/v1alpha2\n",
    "kind: SeldonDeployment\n",
    "metadata:\n",
    "  labels:\n",
    "    app: seldon\n",
    "  name: example\n",
    "  namespace: seldon-model\n",
    "spec:\n",
    "  name: canary-example\n",
    "  predictors:\n",
    "  - componentSpecs:\n",
    "    - spec:\n",
    "        containers:\n",
    "        - image: hoangph3/tf_mnist_serving:v0.0.1\n",
    "          imagePullPolicy: IfNotPresent\n",
    "          name: classifier\n",
    "          volumeMounts:\n",
    "          - mountPath: \"/models\"\n",
    "            name: persistent-storage\n",
    "        terminationGracePeriodSeconds: 1\n",
    "        volumes:\n",
    "        - name: persistent-storage\n",
    "          persistentVolumeClaim:\n",
    "            claimName: nfs-1\n",
    "    graph:\n",
    "      children: []\n",
    "      endpoint:\n",
    "        type: REST\n",
    "      name: classifier\n",
    "      type: MODEL\n",
    "    name: main\n",
    "    replicas: 1\n",
    "    traffic: 75\n",
    "  \n",
    "  - componentSpecs:\n",
    "    - spec:\n",
    "        containers:\n",
    "        - image: hoangph3/sk_mnist_serving:v0.0.1\n",
    "          imagePullPolicy: IfNotPresent\n",
    "          name: classifier\n",
    "          volumeMounts:\n",
    "          - mountPath: \"/models\"\n",
    "            name: persistent-storage\n",
    "        terminationGracePeriodSeconds: 1\n",
    "        volumes:\n",
    "        - name: persistent-storage\n",
    "          persistentVolumeClaim:\n",
    "            claimName: nfs-1\n",
    "    graph:\n",
    "      children: []\n",
    "      endpoint:\n",
    "        type: REST\n",
    "      name: classifier\n",
    "      type: MODEL\n",
    "    name: canary\n",
    "    replicas: 1\n",
    "    traffic: 25\n",
    "```"
   ]
  },
  {
   "cell_type": "code",
   "execution_count": 174,
   "metadata": {},
   "outputs": [
    {
     "name": "stdout",
     "output_type": "stream",
     "text": [
      "seldondeployment.machinelearning.seldon.io/example configured\r\n"
     ]
    }
   ],
   "source": [
    "!kubectl apply -f components_spec/canary_model.yml"
   ]
  },
  {
   "cell_type": "code",
   "execution_count": 181,
   "metadata": {},
   "outputs": [
    {
     "name": "stdout",
     "output_type": "stream",
     "text": [
      "NAME                                           READY   STATUS    RESTARTS   AGE\r\n",
      "example-canary-0-classifier-5c4b49784f-m2cbj   1/3     Running   0          24s\r\n",
      "example-main-0-classifier-855b658b6-pnzwn      3/3     Running   0          72s\r\n"
     ]
    }
   ],
   "source": [
    "!kubectl get pods -n seldon-model"
   ]
  },
  {
   "cell_type": "code",
   "execution_count": 183,
   "metadata": {},
   "outputs": [
    {
     "name": "stdout",
     "output_type": "stream",
     "text": [
      "{'hoangph3/sk_mnist_serving:v0.0.1': 27, 'hoangph3/tf_mnist_serving:v0.0.1': 73}\n"
     ]
    }
   ],
   "source": [
    "from collections import defaultdict\n",
    "\n",
    "counts = defaultdict(int)\n",
    "\n",
    "for _ in range(100):\n",
    "    target_model = sc.predict(transport=\"rest\", data=data).response[\"meta\"][\"requestPath\"][\"classifier\"]\n",
    "    counts[target_model] +=1 \n",
    "\n",
    "print(dict(counts))"
   ]
  },
  {
   "cell_type": "code",
   "execution_count": 187,
   "metadata": {},
   "outputs": [
    {
     "name": "stdout",
     "output_type": "stream",
     "text": [
      "Error from server (NotFound): error when deleting \"components_spec/canary_model.yml\": seldondeployments.machinelearning.seldon.io \"example\" not found\r\n"
     ]
    }
   ],
   "source": [
    "!kubectl delete -f components_spec/canary_model.yml"
   ]
  },
  {
   "cell_type": "markdown",
   "metadata": {},
   "source": [
    "# Rolling Update to Multi-Armed Bandit\n",
    "Run a epsilon-greedy multi-armed bandit over 2 models:\n",
    "  * Tensorflow neural network model\n",
    "  * Scikit-learn random forest model"
   ]
  },
  {
   "cell_type": "code",
   "execution_count": 350,
   "metadata": {},
   "outputs": [
    {
     "name": "stdout",
     "output_type": "stream",
     "text": [
      "seldondeployment.machinelearning.seldon.io/mnist-classifier unchanged\r\n"
     ]
    }
   ],
   "source": [
    "!kubectl apply -f components_spec/multi_arm_epsilon_greedy.yml"
   ]
  },
  {
   "cell_type": "code",
   "execution_count": 351,
   "metadata": {},
   "outputs": [
    {
     "name": "stdout",
     "output_type": "stream",
     "text": [
      "NAME                                                              READY   STATUS    RESTARTS   AGE\r\n",
      "mnist-classifier-mnist-classifier-0-tf-model-sk-model-eg-rkplqk   5/5     Running   0          6m49s\r\n"
     ]
    }
   ],
   "source": [
    "!kubectl get pods -n seldon-model"
   ]
  },
  {
   "cell_type": "code",
   "execution_count": 352,
   "metadata": {},
   "outputs": [
    {
     "name": "stdout",
     "output_type": "stream",
     "text": [
      "{'data': {'names': ['t:0', 't:1', 't:2', 't:3', 't:4', 't:5', 't:6', 't:7', 't:8', 't:9'], 'tensor': {'shape': [1, 10], 'values': [0.06666666666666667, 0.06666666666666667, 0.06666666666666667, 0.06666666666666667, 0.2, 0.3333333333333333, 0.06666666666666667, 0.06666666666666667, 0, 0.06666666666666667]}}, 'meta': {'requestPath': {'sk-model': 'hoangph3/sk_mnist_serving:v0.0.1'}, 'routing': {'eg-router': 0, 'sk-model': -1}}}\n"
     ]
    }
   ],
   "source": [
    "from collections import defaultdict\n",
    "\n",
    "sc = SeldonClient(\n",
    "    deployment_name=\"mnist-classifier\", namespace=\"seldon-model\",\n",
    "    gateway_endpoint=f\"{INGRESS_HOST}:80\", gateway='istio'\n",
    ")\n",
    "\n",
    "r = sc.predict(transport=\"rest\", data=data)\n",
    "assert r.success == True\n",
    "print(r.response)"
   ]
  },
  {
   "cell_type": "code",
   "execution_count": 353,
   "metadata": {},
   "outputs": [
    {
     "name": "stdout",
     "output_type": "stream",
     "text": [
      "seldondeployment.machinelearning.seldon.io \"mnist-classifier\" deleted\r\n"
     ]
    }
   ],
   "source": [
    "!kubectl delete -f components_spec/multi_arm_epsilon_greedy.yml"
   ]
  },
  {
   "cell_type": "markdown",
   "metadata": {},
   "source": [
    "# (Optional) Shadow \n",
    "\n",
    "Shadow deployment allows you to test new models in a production setting and with production traffic and anlalyse how they perform before putting them live."
   ]
  },
  {
   "cell_type": "code",
   "execution_count": 388,
   "metadata": {},
   "outputs": [
    {
     "name": "stdout",
     "output_type": "stream",
     "text": [
      "seldondeployment.machinelearning.seldon.io/example created\r\n"
     ]
    }
   ],
   "source": [
    "!kubectl apply -f components_spec/shadow_model.yml"
   ]
  },
  {
   "cell_type": "code",
   "execution_count": 391,
   "metadata": {},
   "outputs": [
    {
     "name": "stdout",
     "output_type": "stream",
     "text": [
      "NAME                                            READY   STATUS    RESTARTS   AGE\r\n",
      "example-default-0-classifier-66cf6c7658-pbwqr   3/3     Running   0          30s\r\n",
      "example-shadow-0-classifier-86c9bc99f4-xqqtl    3/3     Running   0          30s\r\n"
     ]
    }
   ],
   "source": [
    "!kubectl get pods -n seldon-model"
   ]
  },
  {
   "cell_type": "code",
   "execution_count": 392,
   "metadata": {},
   "outputs": [
    {
     "name": "stdout",
     "output_type": "stream",
     "text": [
      "{'hoangph3/tf_mnist_serving:v0.0.1': 100}\n"
     ]
    }
   ],
   "source": [
    "from collections import defaultdict\n",
    "\n",
    "sc = SeldonClient(\n",
    "    deployment_name=\"example\", namespace=\"seldon-model\", gateway_endpoint=INGRESS_HOST, gateway=\"istio\"\n",
    ")\n",
    "\n",
    "counts = defaultdict(int)\n",
    "for _ in range(100):\n",
    "    target_model = sc.predict(transport=\"rest\", data=data).response[\"meta\"][\"requestPath\"][\"classifier\"]\n",
    "    counts[target_model] +=1 \n",
    "print(dict(counts))"
   ]
  },
  {
   "cell_type": "code",
   "execution_count": 395,
   "metadata": {},
   "outputs": [
    {
     "name": "stdout",
     "output_type": "stream",
     "text": [
      "101\r\n"
     ]
    }
   ],
   "source": [
    "!kubectl logs -n seldon-model example-default-0-classifier-66cf6c7658-pbwqr classifier | grep predict | wc -l"
   ]
  },
  {
   "cell_type": "code",
   "execution_count": 396,
   "metadata": {},
   "outputs": [
    {
     "name": "stdout",
     "output_type": "stream",
     "text": [
      "101\r\n"
     ]
    }
   ],
   "source": [
    "!kubectl logs -n seldon-model example-shadow-0-classifier-86c9bc99f4-xqqtl classifier | grep predict | wc -l"
   ]
  },
  {
   "cell_type": "markdown",
   "metadata": {},
   "source": [
    "We have just test a new model with production traffic but without affecting the live deployment."
   ]
  },
  {
   "cell_type": "code",
   "execution_count": 397,
   "metadata": {},
   "outputs": [
    {
     "name": "stdout",
     "output_type": "stream",
     "text": [
      "seldondeployment.machinelearning.seldon.io \"example\" deleted\r\n"
     ]
    }
   ],
   "source": [
    "!kubectl delete -f components_spec/shadow_model.yml"
   ]
  },
  {
   "cell_type": "code",
   "execution_count": null,
   "metadata": {},
   "outputs": [],
   "source": []
  }
 ],
 "metadata": {
  "kernelspec": {
   "display_name": "Python 3 (ipykernel)",
   "language": "python",
   "name": "python3"
  },
  "language_info": {
   "codemirror_mode": {
    "name": "ipython",
    "version": 3
   },
   "file_extension": ".py",
   "mimetype": "text/x-python",
   "name": "python",
   "nbconvert_exporter": "python",
   "pygments_lexer": "ipython3",
   "version": "3.7.5"
  }
 },
 "nbformat": 4,
 "nbformat_minor": 1
}
