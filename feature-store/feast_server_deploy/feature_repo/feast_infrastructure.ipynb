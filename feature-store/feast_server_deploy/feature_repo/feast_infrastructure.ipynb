{
 "cells": [
  {
   "cell_type": "markdown",
   "id": "c49ac771",
   "metadata": {},
   "source": [
    "## Deploy"
   ]
  },
  {
   "cell_type": "markdown",
   "id": "4d944539",
   "metadata": {},
   "source": [
    "```\n",
    "a6ef4eef9950   feast-push-server      \"feast serve -h 0.0.…\"   3 minutes ago   Up About a minute          0.0.0.0:6567->6566/tcp, :::6567->6566/tcp   feast_push_server\n",
    "d1ab668e9ff1   feast-feature-server   \"feast serve -h 0.0.…\"   3 minutes ago   Up 3 minutes (unhealthy)   0.0.0.0:6566->6566/tcp, :::6566->6566/tcp   feast_feature_server\n",
    "f5cb32fd7e41   postgres:14.0          \"docker-entrypoint.s…\"   3 minutes ago   Up 3 minutes (healthy)     0.0.0.0:5432->5432/tcp, :::5432->5432/tcp   feast_registry\n",
    "9f79f7f6c66d   redis:7.0.4            \"docker-entrypoint.s…\"   3 minutes ago   Up 3 minutes               0.0.0.0:6379->6379/tcp, :::6379->6379/tcp   feast_redis\n",
    "```"
   ]
  },
  {
   "cell_type": "markdown",
   "id": "37044456",
   "metadata": {},
   "source": [
    "## Inspect data"
   ]
  },
  {
   "cell_type": "code",
   "execution_count": 4,
   "id": "bc24dab4",
   "metadata": {},
   "outputs": [
    {
     "name": "stdout",
     "output_type": "stream",
     "text": [
      "data\t\t entities.py\t\t     features.py\t util.py\r\n",
      "data_sources.py  feast_infrastructure.ipynb  feature_store.yaml\r\n",
      "Dockerfile\t feature_services.py\t     test_workflow.py\r\n"
     ]
    }
   ],
   "source": [
    "!ls"
   ]
  },
  {
   "cell_type": "code",
   "execution_count": 5,
   "id": "a6af42aa",
   "metadata": {},
   "outputs": [
    {
     "name": "stdout",
     "output_type": "stream",
     "text": [
      "mnist.npz  mnist.parquet\r\n"
     ]
    }
   ],
   "source": [
    "!ls data/"
   ]
  },
  {
   "cell_type": "markdown",
   "id": "e453124d",
   "metadata": {},
   "source": [
    "## Create feast registry"
   ]
  },
  {
   "cell_type": "code",
   "execution_count": 23,
   "id": "cdc67c06",
   "metadata": {},
   "outputs": [
    {
     "name": "stdout",
     "output_type": "stream",
     "text": [
      "/home/hoang/Documents/mlops-labs/feature-store/feast_env/lib/python3.8/site-packages/pkg_resources/_vendor/pyparsing.py:943: DeprecationWarning: Using or importing the ABCs from 'collections' instead of from 'collections.abc' is deprecated since Python 3.3, and in 3.9 it will stop working\n",
      "  collections.MutableMapping.register(ParseResults)\n",
      "/home/hoang/Documents/mlops-labs/feature-store/feast_env/lib/python3.8/site-packages/feast/feature_store.py:563: RuntimeWarning: On demand feature view is an experimental feature. This API is stable, but the functionality does not scale well for offline retrieval\n",
      "  warnings.warn(\n",
      "/home/hoang/Documents/mlops-labs/feature-store/feast_env/lib/python3.8/site-packages/feast/infra/offline_stores/file_source.py:161: FutureWarning: 'ParquetDataset.schema' attribute is deprecated as of pyarrow 5.0.0 and will be removed in a future version. Specify 'use_legacy_dataset=False' while constructing the ParquetDataset, and then use the '.schema' attribute instead (which will return an Arrow schema instead of a Parquet schema).\n",
      "  schema = ParquetDataset(path).schema.to_arrow_schema()\n",
      "  mnist_fresh_feature_view__feature         feature  norm_value\n",
      "0                               NaN  b'hello world'           1\n",
      "Traceback (most recent call last):\n",
      "  File \"../../feast_env/bin/feast\", line 8, in <module>\n",
      "    sys.exit(cli())\n",
      "  File \"/home/hoang/Documents/mlops-labs/feature-store/feast_env/lib/python3.8/site-packages/click/core.py\", line 1130, in __call__\n",
      "    return self.main(*args, **kwargs)\n",
      "  File \"/home/hoang/Documents/mlops-labs/feature-store/feast_env/lib/python3.8/site-packages/click/core.py\", line 1055, in main\n",
      "    rv = self.invoke(ctx)\n",
      "  File \"/home/hoang/Documents/mlops-labs/feature-store/feast_env/lib/python3.8/site-packages/click/core.py\", line 1657, in invoke\n",
      "    return _process_result(sub_ctx.command.invoke(sub_ctx))\n",
      "  File \"/home/hoang/Documents/mlops-labs/feature-store/feast_env/lib/python3.8/site-packages/click/core.py\", line 1404, in invoke\n",
      "    return ctx.invoke(self.callback, **ctx.params)\n",
      "  File \"/home/hoang/Documents/mlops-labs/feature-store/feast_env/lib/python3.8/site-packages/click/core.py\", line 760, in invoke\n",
      "    return __callback(*args, **kwargs)\n",
      "  File \"/home/hoang/Documents/mlops-labs/feature-store/feast_env/lib/python3.8/site-packages/click/decorators.py\", line 26, in new_func\n",
      "    return f(get_current_context(), *args, **kwargs)\n",
      "  File \"/home/hoang/Documents/mlops-labs/feature-store/feast_env/lib/python3.8/site-packages/feast/cli.py\", line 519, in apply_total_command\n",
      "    apply_total(repo_config, repo, skip_source_validation)\n",
      "  File \"/home/hoang/Documents/mlops-labs/feature-store/feast_env/lib/python3.8/site-packages/feast/usage.py\", line 288, in wrapper\n",
      "    return func(*args, **kwargs)\n",
      "  File \"/home/hoang/Documents/mlops-labs/feature-store/feast_env/lib/python3.8/site-packages/feast/repo_operations.py\", line 335, in apply_total\n",
      "    apply_total_with_repo_instance(\n",
      "  File \"/home/hoang/Documents/mlops-labs/feature-store/feast_env/lib/python3.8/site-packages/feast/repo_operations.py\", line 296, in apply_total_with_repo_instance\n",
      "    registry_diff, infra_diff, new_infra = store.plan(repo)\n",
      "  File \"/home/hoang/Documents/mlops-labs/feature-store/feast_env/lib/python3.8/site-packages/feast/usage.py\", line 299, in wrapper\n",
      "    raise exc.with_traceback(traceback)\n",
      "  File \"/home/hoang/Documents/mlops-labs/feature-store/feast_env/lib/python3.8/site-packages/feast/usage.py\", line 288, in wrapper\n",
      "    return func(*args, **kwargs)\n",
      "  File \"/home/hoang/Documents/mlops-labs/feature-store/feast_env/lib/python3.8/site-packages/feast/feature_store.py\", line 724, in plan\n",
      "    self._make_inferences(\n",
      "  File \"/home/hoang/Documents/mlops-labs/feature-store/feast_env/lib/python3.8/site-packages/feast/feature_store.py\", line 616, in _make_inferences\n",
      "    odfv.infer_features()\n",
      "  File \"/home/hoang/Documents/mlops-labs/feature-store/feast_env/lib/python3.8/site-packages/feast/on_demand_feature_view.py\", line 375, in infer_features\n",
      "    python_type_to_feast_value_type(f, type_name=str(dt))\n",
      "  File \"/home/hoang/Documents/mlops-labs/feature-store/feast_env/lib/python3.8/site-packages/feast/type_map.py\", line 201, in python_type_to_feast_value_type\n",
      "    raise ValueError(\n",
      "ValueError: Value with native type |s11 cannot be converted into Feast value type\n"
     ]
    }
   ],
   "source": [
    "!../../feast_env/bin/feast apply"
   ]
  },
  {
   "cell_type": "markdown",
   "id": "748d2555",
   "metadata": {},
   "source": [
    "## Listing entities, featureView, featureService"
   ]
  },
  {
   "cell_type": "code",
   "execution_count": 12,
   "id": "9766ff66",
   "metadata": {},
   "outputs": [
    {
     "name": "stdout",
     "output_type": "stream",
     "text": [
      "mnist.npz  mnist.parquet\r\n"
     ]
    }
   ],
   "source": [
    "!ls data/"
   ]
  },
  {
   "cell_type": "code",
   "execution_count": 41,
   "id": "5477ebdf",
   "metadata": {},
   "outputs": [
    {
     "name": "stdout",
     "output_type": "stream",
     "text": [
      "NAME    DESCRIPTION          TYPE\r\n",
      "id      The ID of the event  ValueType.INT32\r\n"
     ]
    }
   ],
   "source": [
    "!../../feast_env/bin/feast entities list"
   ]
  },
  {
   "cell_type": "code",
   "execution_count": 42,
   "id": "fb951952",
   "metadata": {},
   "outputs": [
    {
     "name": "stdout",
     "output_type": "stream",
     "text": [
      "NAME                ENTITIES    TYPE\r\n",
      "mnist_feature_view  {'id'}      FeatureView\r\n"
     ]
    }
   ],
   "source": [
    "!../../feast_env/bin/feast feature-views list"
   ]
  },
  {
   "cell_type": "code",
   "execution_count": 43,
   "id": "f574ddac",
   "metadata": {},
   "outputs": [
    {
     "name": "stdout",
     "output_type": "stream",
     "text": [
      "NAME              FEATURES\r\n",
      "mnist_feature_v1  mnist_feature_view:array, mnist_feature_view:class\r\n"
     ]
    }
   ],
   "source": [
    "!../../feast_env/bin/feast feature-services list"
   ]
  },
  {
   "cell_type": "code",
   "execution_count": 44,
   "id": "53570802",
   "metadata": {},
   "outputs": [
    {
     "name": "stdout",
     "output_type": "stream",
     "text": [
      "NAME               CLASS\r\n",
      "mnist_push_source  <class 'feast.data_source.PushSource'>\r\n",
      "mnist_file_source  <class 'feast.infra.offline_stores.file_source.FileSource'>\r\n"
     ]
    }
   ],
   "source": [
    "!../../feast_env/bin/feast data-sources list"
   ]
  },
  {
   "cell_type": "markdown",
   "id": "ed616b47",
   "metadata": {},
   "source": [
    "## Retrieving features"
   ]
  },
  {
   "cell_type": "code",
   "execution_count": 45,
   "id": "a8fd2dd4",
   "metadata": {},
   "outputs": [],
   "source": [
    "import pandas as pd\n",
    "from feast import FeatureStore\n",
    "from feast.infra.offline_stores.file_source import SavedDatasetFileStorage"
   ]
  },
  {
   "cell_type": "code",
   "execution_count": 46,
   "id": "8bb3f192",
   "metadata": {},
   "outputs": [],
   "source": [
    "store = FeatureStore(repo_path=\".\")"
   ]
  },
  {
   "cell_type": "code",
   "execution_count": 62,
   "id": "c6f4f2dc",
   "metadata": {
    "scrolled": false
   },
   "outputs": [
    {
     "name": "stderr",
     "output_type": "stream",
     "text": [
      "/tmp/ipykernel_4742/2613507862.py:6: DeprecationWarning: parsing timezone aware datetimes is deprecated; this will raise an error in the future\n",
      "  entity_df[entity_df['event_timestamp'] > np.datetime64('2021-12-07 08:21:09.345777+00:00')]\n"
     ]
    },
    {
     "data": {
      "text/html": [
       "<div>\n",
       "<style scoped>\n",
       "    .dataframe tbody tr th:only-of-type {\n",
       "        vertical-align: middle;\n",
       "    }\n",
       "\n",
       "    .dataframe tbody tr th {\n",
       "        vertical-align: top;\n",
       "    }\n",
       "\n",
       "    .dataframe thead th {\n",
       "        text-align: right;\n",
       "    }\n",
       "</style>\n",
       "<table border=\"1\" class=\"dataframe\">\n",
       "  <thead>\n",
       "    <tr style=\"text-align: right;\">\n",
       "      <th></th>\n",
       "      <th>event_timestamp</th>\n",
       "      <th>id</th>\n",
       "    </tr>\n",
       "  </thead>\n",
       "  <tbody>\n",
       "    <tr>\n",
       "      <th>51253</th>\n",
       "      <td>2021-12-07 09:16:01.289600</td>\n",
       "      <td>51253</td>\n",
       "    </tr>\n",
       "    <tr>\n",
       "      <th>51254</th>\n",
       "      <td>2021-12-07 10:16:01.289600</td>\n",
       "      <td>51254</td>\n",
       "    </tr>\n",
       "    <tr>\n",
       "      <th>51255</th>\n",
       "      <td>2021-12-07 11:16:01.289600</td>\n",
       "      <td>51255</td>\n",
       "    </tr>\n",
       "    <tr>\n",
       "      <th>51256</th>\n",
       "      <td>2021-12-07 12:16:01.289600</td>\n",
       "      <td>51256</td>\n",
       "    </tr>\n",
       "    <tr>\n",
       "      <th>51257</th>\n",
       "      <td>2021-12-07 13:16:01.289600</td>\n",
       "      <td>51257</td>\n",
       "    </tr>\n",
       "    <tr>\n",
       "      <th>...</th>\n",
       "      <td>...</td>\n",
       "      <td>...</td>\n",
       "    </tr>\n",
       "    <tr>\n",
       "      <th>59995</th>\n",
       "      <td>2022-12-06 15:16:01.289600</td>\n",
       "      <td>59995</td>\n",
       "    </tr>\n",
       "    <tr>\n",
       "      <th>59996</th>\n",
       "      <td>2022-12-06 16:16:01.289600</td>\n",
       "      <td>59996</td>\n",
       "    </tr>\n",
       "    <tr>\n",
       "      <th>59997</th>\n",
       "      <td>2022-12-06 17:16:01.289600</td>\n",
       "      <td>59997</td>\n",
       "    </tr>\n",
       "    <tr>\n",
       "      <th>59998</th>\n",
       "      <td>2022-12-06 18:16:01.289600</td>\n",
       "      <td>59998</td>\n",
       "    </tr>\n",
       "    <tr>\n",
       "      <th>59999</th>\n",
       "      <td>2022-12-06 19:16:01.289600</td>\n",
       "      <td>59999</td>\n",
       "    </tr>\n",
       "  </tbody>\n",
       "</table>\n",
       "<p>8747 rows × 2 columns</p>\n",
       "</div>"
      ],
      "text/plain": [
       "                 event_timestamp     id\n",
       "51253 2021-12-07 09:16:01.289600  51253\n",
       "51254 2021-12-07 10:16:01.289600  51254\n",
       "51255 2021-12-07 11:16:01.289600  51255\n",
       "51256 2021-12-07 12:16:01.289600  51256\n",
       "51257 2021-12-07 13:16:01.289600  51257\n",
       "...                          ...    ...\n",
       "59995 2022-12-06 15:16:01.289600  59995\n",
       "59996 2022-12-06 16:16:01.289600  59996\n",
       "59997 2022-12-06 17:16:01.289600  59997\n",
       "59998 2022-12-06 18:16:01.289600  59998\n",
       "59999 2022-12-06 19:16:01.289600  59999\n",
       "\n",
       "[8747 rows x 2 columns]"
      ]
     },
     "execution_count": 62,
     "metadata": {},
     "output_type": "execute_result"
    }
   ],
   "source": [
    "from datetime import datetime\n",
    "import numpy as np\n",
    "\n",
    "entity_df = pd.read_parquet(path=\"./data/target_df.parquet\")\n",
    "# entity_df['event_timestamp'] = datetime.now()\n",
    "entity_df[entity_df['event_timestamp'] > np.datetime64('2021-12-07 08:21:09.345777+00:00')]"
   ]
  },
  {
   "cell_type": "code",
   "execution_count": 53,
   "id": "ba0d346d",
   "metadata": {},
   "outputs": [
    {
     "data": {
      "text/html": [
       "<div>\n",
       "<style scoped>\n",
       "    .dataframe tbody tr th:only-of-type {\n",
       "        vertical-align: middle;\n",
       "    }\n",
       "\n",
       "    .dataframe tbody tr th {\n",
       "        vertical-align: top;\n",
       "    }\n",
       "\n",
       "    .dataframe thead th {\n",
       "        text-align: right;\n",
       "    }\n",
       "</style>\n",
       "<table border=\"1\" class=\"dataframe\">\n",
       "  <thead>\n",
       "    <tr style=\"text-align: right;\">\n",
       "      <th></th>\n",
       "      <th>event_timestamp</th>\n",
       "      <th>id</th>\n",
       "      <th>array</th>\n",
       "      <th>class</th>\n",
       "    </tr>\n",
       "  </thead>\n",
       "  <tbody>\n",
       "    <tr>\n",
       "      <th>0</th>\n",
       "      <td>2022-12-07 08:21:09.345777+00:00</td>\n",
       "      <td>51253</td>\n",
       "      <td>[[0, 0, 0, 0, 0, 0, 0, 0, 0, 0, 0, 0, 0, 0, 0,...</td>\n",
       "      <td>9</td>\n",
       "    </tr>\n",
       "    <tr>\n",
       "      <th>1</th>\n",
       "      <td>2022-12-07 08:21:09.345777+00:00</td>\n",
       "      <td>51254</td>\n",
       "      <td>[[0, 0, 0, 0, 0, 0, 0, 0, 0, 0, 0, 0, 0, 0, 0,...</td>\n",
       "      <td>5</td>\n",
       "    </tr>\n",
       "    <tr>\n",
       "      <th>2</th>\n",
       "      <td>2022-12-07 08:21:09.345777+00:00</td>\n",
       "      <td>51255</td>\n",
       "      <td>[[0, 0, 0, 0, 0, 0, 0, 0, 0, 0, 0, 0, 0, 0, 0,...</td>\n",
       "      <td>4</td>\n",
       "    </tr>\n",
       "    <tr>\n",
       "      <th>3</th>\n",
       "      <td>2022-12-07 08:21:09.345777+00:00</td>\n",
       "      <td>51256</td>\n",
       "      <td>[[0, 0, 0, 0, 0, 0, 0, 0, 0, 0, 0, 0, 0, 0, 0,...</td>\n",
       "      <td>2</td>\n",
       "    </tr>\n",
       "    <tr>\n",
       "      <th>4</th>\n",
       "      <td>2022-12-07 08:21:09.345777+00:00</td>\n",
       "      <td>51257</td>\n",
       "      <td>[[0, 0, 0, 0, 0, 0, 0, 0, 0, 0, 0, 0, 0, 0, 0,...</td>\n",
       "      <td>3</td>\n",
       "    </tr>\n",
       "    <tr>\n",
       "      <th>...</th>\n",
       "      <td>...</td>\n",
       "      <td>...</td>\n",
       "      <td>...</td>\n",
       "      <td>...</td>\n",
       "    </tr>\n",
       "    <tr>\n",
       "      <th>8742</th>\n",
       "      <td>2022-12-07 08:21:09.345777+00:00</td>\n",
       "      <td>59995</td>\n",
       "      <td>[[0, 0, 0, 0, 0, 0, 0, 0, 0, 0, 0, 0, 0, 0, 0,...</td>\n",
       "      <td>8</td>\n",
       "    </tr>\n",
       "    <tr>\n",
       "      <th>8743</th>\n",
       "      <td>2022-12-07 08:21:09.345777+00:00</td>\n",
       "      <td>59996</td>\n",
       "      <td>[[0, 0, 0, 0, 0, 0, 0, 0, 0, 0, 0, 0, 0, 0, 0,...</td>\n",
       "      <td>3</td>\n",
       "    </tr>\n",
       "    <tr>\n",
       "      <th>8744</th>\n",
       "      <td>2022-12-07 08:21:09.345777+00:00</td>\n",
       "      <td>59997</td>\n",
       "      <td>[[0, 0, 0, 0, 0, 0, 0, 0, 0, 0, 0, 0, 0, 0, 0,...</td>\n",
       "      <td>5</td>\n",
       "    </tr>\n",
       "    <tr>\n",
       "      <th>8745</th>\n",
       "      <td>2022-12-07 08:21:09.345777+00:00</td>\n",
       "      <td>59998</td>\n",
       "      <td>[[0, 0, 0, 0, 0, 0, 0, 0, 0, 0, 0, 0, 0, 0, 0,...</td>\n",
       "      <td>6</td>\n",
       "    </tr>\n",
       "    <tr>\n",
       "      <th>8746</th>\n",
       "      <td>2022-12-07 08:21:09.345777+00:00</td>\n",
       "      <td>59999</td>\n",
       "      <td>[[0, 0, 0, 0, 0, 0, 0, 0, 0, 0, 0, 0, 0, 0, 0,...</td>\n",
       "      <td>8</td>\n",
       "    </tr>\n",
       "  </tbody>\n",
       "</table>\n",
       "<p>8747 rows × 4 columns</p>\n",
       "</div>"
      ],
      "text/plain": [
       "                      event_timestamp     id  \\\n",
       "0    2022-12-07 08:21:09.345777+00:00  51253   \n",
       "1    2022-12-07 08:21:09.345777+00:00  51254   \n",
       "2    2022-12-07 08:21:09.345777+00:00  51255   \n",
       "3    2022-12-07 08:21:09.345777+00:00  51256   \n",
       "4    2022-12-07 08:21:09.345777+00:00  51257   \n",
       "...                               ...    ...   \n",
       "8742 2022-12-07 08:21:09.345777+00:00  59995   \n",
       "8743 2022-12-07 08:21:09.345777+00:00  59996   \n",
       "8744 2022-12-07 08:21:09.345777+00:00  59997   \n",
       "8745 2022-12-07 08:21:09.345777+00:00  59998   \n",
       "8746 2022-12-07 08:21:09.345777+00:00  59999   \n",
       "\n",
       "                                                  array  class  \n",
       "0     [[0, 0, 0, 0, 0, 0, 0, 0, 0, 0, 0, 0, 0, 0, 0,...      9  \n",
       "1     [[0, 0, 0, 0, 0, 0, 0, 0, 0, 0, 0, 0, 0, 0, 0,...      5  \n",
       "2     [[0, 0, 0, 0, 0, 0, 0, 0, 0, 0, 0, 0, 0, 0, 0,...      4  \n",
       "3     [[0, 0, 0, 0, 0, 0, 0, 0, 0, 0, 0, 0, 0, 0, 0,...      2  \n",
       "4     [[0, 0, 0, 0, 0, 0, 0, 0, 0, 0, 0, 0, 0, 0, 0,...      3  \n",
       "...                                                 ...    ...  \n",
       "8742  [[0, 0, 0, 0, 0, 0, 0, 0, 0, 0, 0, 0, 0, 0, 0,...      8  \n",
       "8743  [[0, 0, 0, 0, 0, 0, 0, 0, 0, 0, 0, 0, 0, 0, 0,...      3  \n",
       "8744  [[0, 0, 0, 0, 0, 0, 0, 0, 0, 0, 0, 0, 0, 0, 0,...      5  \n",
       "8745  [[0, 0, 0, 0, 0, 0, 0, 0, 0, 0, 0, 0, 0, 0, 0,...      6  \n",
       "8746  [[0, 0, 0, 0, 0, 0, 0, 0, 0, 0, 0, 0, 0, 0, 0,...      8  \n",
       "\n",
       "[8747 rows x 4 columns]"
      ]
     },
     "execution_count": 53,
     "metadata": {},
     "output_type": "execute_result"
    }
   ],
   "source": [
    "# Retrieving from the offline store with a feature service v1\n",
    "feature_v1 = store.get_feature_service(\"mnist_feature_v1\")\n",
    "training_data = store.get_historical_features(features=feature_v1, entity_df=entity_df)\n",
    "training_data.to_df()"
   ]
  },
  {
   "cell_type": "markdown",
   "id": "f44157cb",
   "metadata": {},
   "source": [
    "## Save local dataset"
   ]
  },
  {
   "cell_type": "code",
   "execution_count": 336,
   "id": "1bb4f738",
   "metadata": {},
   "outputs": [
    {
     "name": "stderr",
     "output_type": "stream",
     "text": [
      "/home/hoang/workspace/feature_store/feast_env/lib/python3.8/site-packages/feast/feature_store.py:1182: RuntimeWarning: Saving dataset is an experimental feature. This API is unstable and it could and most probably will be changed in the future. We do not guarantee that future changes will maintain backward compatibility.\n",
      "  warnings.warn(\n"
     ]
    }
   ],
   "source": [
    "dataset = store.create_saved_dataset(\n",
    "    from_=training_data,\n",
    "    name=\"breast_cancer_dataset\",\n",
    "    storage=SavedDatasetFileStorage(\"data/breast_cancer_dataset.parquet\")\n",
    ")"
   ]
  },
  {
   "cell_type": "code",
   "execution_count": 337,
   "id": "8371178f",
   "metadata": {},
   "outputs": [
    {
     "name": "stdout",
     "output_type": "stream",
     "text": [
      "breast_cancer_dataset.parquet  data_df3.parquet  registry.db\r\n",
      "data_df1.parquet\t       data_df4.parquet  target_df.parquet\r\n",
      "data_df2.parquet\t       online_store.db\r\n"
     ]
    }
   ],
   "source": [
    "!ls data/"
   ]
  },
  {
   "cell_type": "code",
   "execution_count": 338,
   "id": "1d3c57e3",
   "metadata": {},
   "outputs": [
    {
     "name": "stderr",
     "output_type": "stream",
     "text": [
      "/home/hoang/workspace/feature_store/feast_env/lib/python3.8/site-packages/feast/feature_store.py:1235: RuntimeWarning: Retrieving datasets is an experimental feature. This API is unstable and it could and most probably will be changed in the future. We do not guarantee that future changes will maintain backward compatibility.\n",
      "  warnings.warn(\n"
     ]
    },
    {
     "data": {
      "text/html": [
       "<div>\n",
       "<style scoped>\n",
       "    .dataframe tbody tr th:only-of-type {\n",
       "        vertical-align: middle;\n",
       "    }\n",
       "\n",
       "    .dataframe tbody tr th {\n",
       "        vertical-align: top;\n",
       "    }\n",
       "\n",
       "    .dataframe thead th {\n",
       "        text-align: right;\n",
       "    }\n",
       "</style>\n",
       "<table border=\"1\" class=\"dataframe\">\n",
       "  <thead>\n",
       "    <tr style=\"text-align: right;\">\n",
       "      <th></th>\n",
       "      <th>fractal dimension error</th>\n",
       "      <th>event_timestamp</th>\n",
       "      <th>worst fractal dimension</th>\n",
       "      <th>worst compactness</th>\n",
       "      <th>worst perimeter</th>\n",
       "      <th>worst texture</th>\n",
       "      <th>smoothness error</th>\n",
       "      <th>worst symmetry</th>\n",
       "      <th>symmetry error</th>\n",
       "      <th>worst concave points</th>\n",
       "      <th>worst concavity</th>\n",
       "      <th>mean perimeter</th>\n",
       "      <th>concavity error</th>\n",
       "      <th>concave points error</th>\n",
       "      <th>mean symmetry</th>\n",
       "      <th>mean texture</th>\n",
       "      <th>mean area</th>\n",
       "      <th>patient_id</th>\n",
       "      <th>mean smoothness</th>\n",
       "      <th>radius error</th>\n",
       "      <th>target</th>\n",
       "      <th>perimeter error</th>\n",
       "      <th>mean concavity</th>\n",
       "      <th>mean fractal dimension</th>\n",
       "      <th>area error</th>\n",
       "      <th>worst area</th>\n",
       "      <th>mean concave points</th>\n",
       "      <th>mean radius</th>\n",
       "      <th>texture error</th>\n",
       "      <th>compactness error</th>\n",
       "      <th>worst radius</th>\n",
       "      <th>worst smoothness</th>\n",
       "      <th>mean compactness</th>\n",
       "    </tr>\n",
       "  </thead>\n",
       "  <tbody>\n",
       "    <tr>\n",
       "      <th>0</th>\n",
       "      <td>0.006193</td>\n",
       "      <td>2021-05-17 13:58:49.110423+00:00</td>\n",
       "      <td>0.11890</td>\n",
       "      <td>0.66560</td>\n",
       "      <td>184.60</td>\n",
       "      <td>17.33</td>\n",
       "      <td>0.006399</td>\n",
       "      <td>0.4601</td>\n",
       "      <td>0.03003</td>\n",
       "      <td>0.2654</td>\n",
       "      <td>0.7119</td>\n",
       "      <td>122.80</td>\n",
       "      <td>0.05373</td>\n",
       "      <td>0.01587</td>\n",
       "      <td>0.2419</td>\n",
       "      <td>10.38</td>\n",
       "      <td>1001.0</td>\n",
       "      <td>0</td>\n",
       "      <td>0.11840</td>\n",
       "      <td>1.0950</td>\n",
       "      <td>0</td>\n",
       "      <td>8.589</td>\n",
       "      <td>0.30010</td>\n",
       "      <td>0.07871</td>\n",
       "      <td>153.40</td>\n",
       "      <td>2019.0</td>\n",
       "      <td>0.14710</td>\n",
       "      <td>17.99</td>\n",
       "      <td>0.9053</td>\n",
       "      <td>0.04904</td>\n",
       "      <td>25.380</td>\n",
       "      <td>0.16220</td>\n",
       "      <td>0.27760</td>\n",
       "    </tr>\n",
       "    <tr>\n",
       "      <th>1</th>\n",
       "      <td>0.003532</td>\n",
       "      <td>2021-05-18 13:58:49.110423+00:00</td>\n",
       "      <td>0.08902</td>\n",
       "      <td>0.18660</td>\n",
       "      <td>158.80</td>\n",
       "      <td>23.41</td>\n",
       "      <td>0.005225</td>\n",
       "      <td>0.2750</td>\n",
       "      <td>0.01389</td>\n",
       "      <td>0.1860</td>\n",
       "      <td>0.2416</td>\n",
       "      <td>132.90</td>\n",
       "      <td>0.01860</td>\n",
       "      <td>0.01340</td>\n",
       "      <td>0.1812</td>\n",
       "      <td>17.77</td>\n",
       "      <td>1326.0</td>\n",
       "      <td>1</td>\n",
       "      <td>0.08474</td>\n",
       "      <td>0.5435</td>\n",
       "      <td>0</td>\n",
       "      <td>3.398</td>\n",
       "      <td>0.08690</td>\n",
       "      <td>0.05667</td>\n",
       "      <td>74.08</td>\n",
       "      <td>1956.0</td>\n",
       "      <td>0.07017</td>\n",
       "      <td>20.57</td>\n",
       "      <td>0.7339</td>\n",
       "      <td>0.01308</td>\n",
       "      <td>24.990</td>\n",
       "      <td>0.12380</td>\n",
       "      <td>0.07864</td>\n",
       "    </tr>\n",
       "    <tr>\n",
       "      <th>2</th>\n",
       "      <td>0.004571</td>\n",
       "      <td>2021-05-19 13:58:49.110423+00:00</td>\n",
       "      <td>0.08758</td>\n",
       "      <td>0.42450</td>\n",
       "      <td>152.50</td>\n",
       "      <td>25.53</td>\n",
       "      <td>0.006150</td>\n",
       "      <td>0.3613</td>\n",
       "      <td>0.02250</td>\n",
       "      <td>0.2430</td>\n",
       "      <td>0.4504</td>\n",
       "      <td>130.00</td>\n",
       "      <td>0.03832</td>\n",
       "      <td>0.02058</td>\n",
       "      <td>0.2069</td>\n",
       "      <td>21.25</td>\n",
       "      <td>1203.0</td>\n",
       "      <td>2</td>\n",
       "      <td>0.10960</td>\n",
       "      <td>0.7456</td>\n",
       "      <td>0</td>\n",
       "      <td>4.585</td>\n",
       "      <td>0.19740</td>\n",
       "      <td>0.05999</td>\n",
       "      <td>94.03</td>\n",
       "      <td>1709.0</td>\n",
       "      <td>0.12790</td>\n",
       "      <td>19.69</td>\n",
       "      <td>0.7869</td>\n",
       "      <td>0.04006</td>\n",
       "      <td>23.570</td>\n",
       "      <td>0.14440</td>\n",
       "      <td>0.15990</td>\n",
       "    </tr>\n",
       "    <tr>\n",
       "      <th>3</th>\n",
       "      <td>0.009208</td>\n",
       "      <td>2021-05-20 13:58:49.110423+00:00</td>\n",
       "      <td>0.17300</td>\n",
       "      <td>0.86630</td>\n",
       "      <td>98.87</td>\n",
       "      <td>26.50</td>\n",
       "      <td>0.009110</td>\n",
       "      <td>0.6638</td>\n",
       "      <td>0.05963</td>\n",
       "      <td>0.2575</td>\n",
       "      <td>0.6869</td>\n",
       "      <td>77.58</td>\n",
       "      <td>0.05661</td>\n",
       "      <td>0.01867</td>\n",
       "      <td>0.2597</td>\n",
       "      <td>20.38</td>\n",
       "      <td>386.1</td>\n",
       "      <td>3</td>\n",
       "      <td>0.14250</td>\n",
       "      <td>0.4956</td>\n",
       "      <td>0</td>\n",
       "      <td>3.445</td>\n",
       "      <td>0.24140</td>\n",
       "      <td>0.09744</td>\n",
       "      <td>27.23</td>\n",
       "      <td>567.7</td>\n",
       "      <td>0.10520</td>\n",
       "      <td>11.42</td>\n",
       "      <td>1.1560</td>\n",
       "      <td>0.07458</td>\n",
       "      <td>14.910</td>\n",
       "      <td>0.20980</td>\n",
       "      <td>0.28390</td>\n",
       "    </tr>\n",
       "    <tr>\n",
       "      <th>4</th>\n",
       "      <td>0.005115</td>\n",
       "      <td>2021-05-21 13:58:49.110423+00:00</td>\n",
       "      <td>0.07678</td>\n",
       "      <td>0.20500</td>\n",
       "      <td>152.20</td>\n",
       "      <td>16.67</td>\n",
       "      <td>0.011490</td>\n",
       "      <td>0.2364</td>\n",
       "      <td>0.01756</td>\n",
       "      <td>0.1625</td>\n",
       "      <td>0.4000</td>\n",
       "      <td>135.10</td>\n",
       "      <td>0.05688</td>\n",
       "      <td>0.01885</td>\n",
       "      <td>0.1809</td>\n",
       "      <td>14.34</td>\n",
       "      <td>1297.0</td>\n",
       "      <td>4</td>\n",
       "      <td>0.10030</td>\n",
       "      <td>0.7572</td>\n",
       "      <td>0</td>\n",
       "      <td>5.438</td>\n",
       "      <td>0.19800</td>\n",
       "      <td>0.05883</td>\n",
       "      <td>94.44</td>\n",
       "      <td>1575.0</td>\n",
       "      <td>0.10430</td>\n",
       "      <td>20.29</td>\n",
       "      <td>0.7813</td>\n",
       "      <td>0.02461</td>\n",
       "      <td>22.540</td>\n",
       "      <td>0.13740</td>\n",
       "      <td>0.13280</td>\n",
       "    </tr>\n",
       "    <tr>\n",
       "      <th>...</th>\n",
       "      <td>...</td>\n",
       "      <td>...</td>\n",
       "      <td>...</td>\n",
       "      <td>...</td>\n",
       "      <td>...</td>\n",
       "      <td>...</td>\n",
       "      <td>...</td>\n",
       "      <td>...</td>\n",
       "      <td>...</td>\n",
       "      <td>...</td>\n",
       "      <td>...</td>\n",
       "      <td>...</td>\n",
       "      <td>...</td>\n",
       "      <td>...</td>\n",
       "      <td>...</td>\n",
       "      <td>...</td>\n",
       "      <td>...</td>\n",
       "      <td>...</td>\n",
       "      <td>...</td>\n",
       "      <td>...</td>\n",
       "      <td>...</td>\n",
       "      <td>...</td>\n",
       "      <td>...</td>\n",
       "      <td>...</td>\n",
       "      <td>...</td>\n",
       "      <td>...</td>\n",
       "      <td>...</td>\n",
       "      <td>...</td>\n",
       "      <td>...</td>\n",
       "      <td>...</td>\n",
       "      <td>...</td>\n",
       "      <td>...</td>\n",
       "      <td>...</td>\n",
       "    </tr>\n",
       "    <tr>\n",
       "      <th>564</th>\n",
       "      <td>0.004239</td>\n",
       "      <td>2022-12-02 13:58:49.110423+00:00</td>\n",
       "      <td>0.07115</td>\n",
       "      <td>0.21130</td>\n",
       "      <td>166.10</td>\n",
       "      <td>26.40</td>\n",
       "      <td>0.010300</td>\n",
       "      <td>0.2060</td>\n",
       "      <td>0.01114</td>\n",
       "      <td>0.2216</td>\n",
       "      <td>0.4107</td>\n",
       "      <td>142.00</td>\n",
       "      <td>0.05198</td>\n",
       "      <td>0.02454</td>\n",
       "      <td>0.1726</td>\n",
       "      <td>22.39</td>\n",
       "      <td>1479.0</td>\n",
       "      <td>564</td>\n",
       "      <td>0.11100</td>\n",
       "      <td>1.1760</td>\n",
       "      <td>0</td>\n",
       "      <td>7.673</td>\n",
       "      <td>0.24390</td>\n",
       "      <td>0.05623</td>\n",
       "      <td>158.70</td>\n",
       "      <td>2027.0</td>\n",
       "      <td>0.13890</td>\n",
       "      <td>21.56</td>\n",
       "      <td>1.2560</td>\n",
       "      <td>0.02891</td>\n",
       "      <td>25.450</td>\n",
       "      <td>0.14100</td>\n",
       "      <td>0.11590</td>\n",
       "    </tr>\n",
       "    <tr>\n",
       "      <th>565</th>\n",
       "      <td>0.002498</td>\n",
       "      <td>2022-12-03 13:58:49.110423+00:00</td>\n",
       "      <td>0.06637</td>\n",
       "      <td>0.19220</td>\n",
       "      <td>155.00</td>\n",
       "      <td>38.25</td>\n",
       "      <td>0.005769</td>\n",
       "      <td>0.2572</td>\n",
       "      <td>0.01898</td>\n",
       "      <td>0.1628</td>\n",
       "      <td>0.3215</td>\n",
       "      <td>131.20</td>\n",
       "      <td>0.03950</td>\n",
       "      <td>0.01678</td>\n",
       "      <td>0.1752</td>\n",
       "      <td>28.25</td>\n",
       "      <td>1261.0</td>\n",
       "      <td>565</td>\n",
       "      <td>0.09780</td>\n",
       "      <td>0.7655</td>\n",
       "      <td>0</td>\n",
       "      <td>5.203</td>\n",
       "      <td>0.14400</td>\n",
       "      <td>0.05533</td>\n",
       "      <td>99.04</td>\n",
       "      <td>1731.0</td>\n",
       "      <td>0.09791</td>\n",
       "      <td>20.13</td>\n",
       "      <td>2.4630</td>\n",
       "      <td>0.02423</td>\n",
       "      <td>23.690</td>\n",
       "      <td>0.11660</td>\n",
       "      <td>0.10340</td>\n",
       "    </tr>\n",
       "    <tr>\n",
       "      <th>566</th>\n",
       "      <td>0.003892</td>\n",
       "      <td>2022-12-04 13:58:49.110423+00:00</td>\n",
       "      <td>0.07820</td>\n",
       "      <td>0.30940</td>\n",
       "      <td>126.70</td>\n",
       "      <td>34.12</td>\n",
       "      <td>0.005903</td>\n",
       "      <td>0.2218</td>\n",
       "      <td>0.01318</td>\n",
       "      <td>0.1418</td>\n",
       "      <td>0.3403</td>\n",
       "      <td>108.30</td>\n",
       "      <td>0.04730</td>\n",
       "      <td>0.01557</td>\n",
       "      <td>0.1590</td>\n",
       "      <td>28.08</td>\n",
       "      <td>858.1</td>\n",
       "      <td>566</td>\n",
       "      <td>0.08455</td>\n",
       "      <td>0.4564</td>\n",
       "      <td>0</td>\n",
       "      <td>3.425</td>\n",
       "      <td>0.09251</td>\n",
       "      <td>0.05648</td>\n",
       "      <td>48.55</td>\n",
       "      <td>1124.0</td>\n",
       "      <td>0.05302</td>\n",
       "      <td>16.60</td>\n",
       "      <td>1.0750</td>\n",
       "      <td>0.03731</td>\n",
       "      <td>18.980</td>\n",
       "      <td>0.11390</td>\n",
       "      <td>0.10230</td>\n",
       "    </tr>\n",
       "    <tr>\n",
       "      <th>567</th>\n",
       "      <td>0.006185</td>\n",
       "      <td>2022-12-05 13:58:49.110423+00:00</td>\n",
       "      <td>0.12400</td>\n",
       "      <td>0.86810</td>\n",
       "      <td>184.60</td>\n",
       "      <td>39.42</td>\n",
       "      <td>0.006522</td>\n",
       "      <td>0.4087</td>\n",
       "      <td>0.02324</td>\n",
       "      <td>0.2650</td>\n",
       "      <td>0.9387</td>\n",
       "      <td>140.10</td>\n",
       "      <td>0.07117</td>\n",
       "      <td>0.01664</td>\n",
       "      <td>0.2397</td>\n",
       "      <td>29.33</td>\n",
       "      <td>1265.0</td>\n",
       "      <td>567</td>\n",
       "      <td>0.11780</td>\n",
       "      <td>0.7260</td>\n",
       "      <td>0</td>\n",
       "      <td>5.772</td>\n",
       "      <td>0.35140</td>\n",
       "      <td>0.07016</td>\n",
       "      <td>86.22</td>\n",
       "      <td>1821.0</td>\n",
       "      <td>0.15200</td>\n",
       "      <td>20.60</td>\n",
       "      <td>1.5950</td>\n",
       "      <td>0.06158</td>\n",
       "      <td>25.740</td>\n",
       "      <td>0.16500</td>\n",
       "      <td>0.27700</td>\n",
       "    </tr>\n",
       "    <tr>\n",
       "      <th>568</th>\n",
       "      <td>0.002783</td>\n",
       "      <td>2022-12-06 13:58:49.110423+00:00</td>\n",
       "      <td>0.07039</td>\n",
       "      <td>0.06444</td>\n",
       "      <td>59.16</td>\n",
       "      <td>30.37</td>\n",
       "      <td>0.007189</td>\n",
       "      <td>0.2871</td>\n",
       "      <td>0.02676</td>\n",
       "      <td>0.0000</td>\n",
       "      <td>0.0000</td>\n",
       "      <td>47.92</td>\n",
       "      <td>0.00000</td>\n",
       "      <td>0.00000</td>\n",
       "      <td>0.1587</td>\n",
       "      <td>24.54</td>\n",
       "      <td>181.0</td>\n",
       "      <td>568</td>\n",
       "      <td>0.05263</td>\n",
       "      <td>0.3857</td>\n",
       "      <td>1</td>\n",
       "      <td>2.548</td>\n",
       "      <td>0.00000</td>\n",
       "      <td>0.05884</td>\n",
       "      <td>19.15</td>\n",
       "      <td>268.6</td>\n",
       "      <td>0.00000</td>\n",
       "      <td>7.76</td>\n",
       "      <td>1.4280</td>\n",
       "      <td>0.00466</td>\n",
       "      <td>9.456</td>\n",
       "      <td>0.08996</td>\n",
       "      <td>0.04362</td>\n",
       "    </tr>\n",
       "  </tbody>\n",
       "</table>\n",
       "<p>569 rows × 33 columns</p>\n",
       "</div>"
      ],
      "text/plain": [
       "     fractal dimension error  ... mean compactness\n",
       "0                   0.006193  ...          0.27760\n",
       "1                   0.003532  ...          0.07864\n",
       "2                   0.004571  ...          0.15990\n",
       "3                   0.009208  ...          0.28390\n",
       "4                   0.005115  ...          0.13280\n",
       "..                       ...  ...              ...\n",
       "564                 0.004239  ...          0.11590\n",
       "565                 0.002498  ...          0.10340\n",
       "566                 0.003892  ...          0.10230\n",
       "567                 0.006185  ...          0.27700\n",
       "568                 0.002783  ...          0.04362\n",
       "\n",
       "[569 rows x 33 columns]"
      ]
     },
     "execution_count": 338,
     "metadata": {},
     "output_type": "execute_result"
    }
   ],
   "source": [
    "# Retrieving the saved dataset\n",
    "training_df = store.get_saved_dataset(name=\"breast_cancer_dataset\").to_df()\n",
    "training_df"
   ]
  },
  {
   "cell_type": "markdown",
   "id": "6cab3de0",
   "metadata": {},
   "source": [
    "## Load dataset and training"
   ]
  },
  {
   "cell_type": "code",
   "execution_count": 361,
   "id": "427c2418",
   "metadata": {},
   "outputs": [],
   "source": [
    "from sklearn.model_selection import train_test_split\n",
    "from sklearn.linear_model import LogisticRegression\n",
    "\n",
    "labels = training_df['target']\n",
    "features = training_df.drop(labels=['target', 'event_timestamp', 'patient_id'],\n",
    "                            axis=1)\n",
    "\n",
    "# sorted(df) to keep the order of feature fields\n",
    "feature_fields = sorted(features)\n",
    "features = features[feature_fields]\n",
    "\n",
    "# split dataset\n",
    "X_train, X_test, y_train, y_test = train_test_split(features, labels, shuffle=False)"
   ]
  },
  {
   "cell_type": "code",
   "execution_count": 362,
   "id": "74039b11",
   "metadata": {},
   "outputs": [
    {
     "data": {
      "text/plain": [
       "((426, 30), (426,), (143, 30), (143,))"
      ]
     },
     "execution_count": 362,
     "metadata": {},
     "output_type": "execute_result"
    }
   ],
   "source": [
    "X_train.shape, y_train.shape, X_test.shape, y_test.shape"
   ]
  },
  {
   "cell_type": "code",
   "execution_count": 363,
   "id": "cf7ab150",
   "metadata": {},
   "outputs": [
    {
     "name": "stderr",
     "output_type": "stream",
     "text": [
      "/home/hoang/workspace/feature_store/feast_env/lib/python3.8/site-packages/sklearn/linear_model/_logistic.py:444: ConvergenceWarning: lbfgs failed to converge (status=1):\n",
      "STOP: TOTAL NO. of ITERATIONS REACHED LIMIT.\n",
      "\n",
      "Increase the number of iterations (max_iter) or scale the data as shown in:\n",
      "    https://scikit-learn.org/stable/modules/preprocessing.html\n",
      "Please also refer to the documentation for alternative solver options:\n",
      "    https://scikit-learn.org/stable/modules/linear_model.html#logistic-regression\n",
      "  n_iter_i = _check_optimize_result(\n"
     ]
    },
    {
     "data": {
      "text/html": [
       "<style>#sk-container-id-36 {color: black;background-color: white;}#sk-container-id-36 pre{padding: 0;}#sk-container-id-36 div.sk-toggleable {background-color: white;}#sk-container-id-36 label.sk-toggleable__label {cursor: pointer;display: block;width: 100%;margin-bottom: 0;padding: 0.3em;box-sizing: border-box;text-align: center;}#sk-container-id-36 label.sk-toggleable__label-arrow:before {content: \"▸\";float: left;margin-right: 0.25em;color: #696969;}#sk-container-id-36 label.sk-toggleable__label-arrow:hover:before {color: black;}#sk-container-id-36 div.sk-estimator:hover label.sk-toggleable__label-arrow:before {color: black;}#sk-container-id-36 div.sk-toggleable__content {max-height: 0;max-width: 0;overflow: hidden;text-align: left;background-color: #f0f8ff;}#sk-container-id-36 div.sk-toggleable__content pre {margin: 0.2em;color: black;border-radius: 0.25em;background-color: #f0f8ff;}#sk-container-id-36 input.sk-toggleable__control:checked~div.sk-toggleable__content {max-height: 200px;max-width: 100%;overflow: auto;}#sk-container-id-36 input.sk-toggleable__control:checked~label.sk-toggleable__label-arrow:before {content: \"▾\";}#sk-container-id-36 div.sk-estimator input.sk-toggleable__control:checked~label.sk-toggleable__label {background-color: #d4ebff;}#sk-container-id-36 div.sk-label input.sk-toggleable__control:checked~label.sk-toggleable__label {background-color: #d4ebff;}#sk-container-id-36 input.sk-hidden--visually {border: 0;clip: rect(1px 1px 1px 1px);clip: rect(1px, 1px, 1px, 1px);height: 1px;margin: -1px;overflow: hidden;padding: 0;position: absolute;width: 1px;}#sk-container-id-36 div.sk-estimator {font-family: monospace;background-color: #f0f8ff;border: 1px dotted black;border-radius: 0.25em;box-sizing: border-box;margin-bottom: 0.5em;}#sk-container-id-36 div.sk-estimator:hover {background-color: #d4ebff;}#sk-container-id-36 div.sk-parallel-item::after {content: \"\";width: 100%;border-bottom: 1px solid gray;flex-grow: 1;}#sk-container-id-36 div.sk-label:hover label.sk-toggleable__label {background-color: #d4ebff;}#sk-container-id-36 div.sk-serial::before {content: \"\";position: absolute;border-left: 1px solid gray;box-sizing: border-box;top: 0;bottom: 0;left: 50%;z-index: 0;}#sk-container-id-36 div.sk-serial {display: flex;flex-direction: column;align-items: center;background-color: white;padding-right: 0.2em;padding-left: 0.2em;position: relative;}#sk-container-id-36 div.sk-item {position: relative;z-index: 1;}#sk-container-id-36 div.sk-parallel {display: flex;align-items: stretch;justify-content: center;background-color: white;position: relative;}#sk-container-id-36 div.sk-item::before, #sk-container-id-36 div.sk-parallel-item::before {content: \"\";position: absolute;border-left: 1px solid gray;box-sizing: border-box;top: 0;bottom: 0;left: 50%;z-index: -1;}#sk-container-id-36 div.sk-parallel-item {display: flex;flex-direction: column;z-index: 1;position: relative;background-color: white;}#sk-container-id-36 div.sk-parallel-item:first-child::after {align-self: flex-end;width: 50%;}#sk-container-id-36 div.sk-parallel-item:last-child::after {align-self: flex-start;width: 50%;}#sk-container-id-36 div.sk-parallel-item:only-child::after {width: 0;}#sk-container-id-36 div.sk-dashed-wrapped {border: 1px dashed gray;margin: 0 0.4em 0.5em 0.4em;box-sizing: border-box;padding-bottom: 0.4em;background-color: white;}#sk-container-id-36 div.sk-label label {font-family: monospace;font-weight: bold;display: inline-block;line-height: 1.2em;}#sk-container-id-36 div.sk-label-container {text-align: center;}#sk-container-id-36 div.sk-container {/* jupyter's `normalize.less` sets `[hidden] { display: none; }` but bootstrap.min.css set `[hidden] { display: none !important; }` so we also need the `!important` here to be able to override the default hidden behavior on the sphinx rendered scikit-learn.org. See: https://github.com/scikit-learn/scikit-learn/issues/21755 */display: inline-block !important;position: relative;}#sk-container-id-36 div.sk-text-repr-fallback {display: none;}</style><div id=\"sk-container-id-36\" class=\"sk-top-container\"><div class=\"sk-text-repr-fallback\"><pre>LogisticRegression(C=1000000.0, max_iter=1000)</pre><b>In a Jupyter environment, please rerun this cell to show the HTML representation or trust the notebook. <br />On GitHub, the HTML representation is unable to render, please try loading this page with nbviewer.org.</b></div><div class=\"sk-container\" hidden><div class=\"sk-item\"><div class=\"sk-estimator sk-toggleable\"><input class=\"sk-toggleable__control sk-hidden--visually\" id=\"sk-estimator-id-36\" type=\"checkbox\" checked><label for=\"sk-estimator-id-36\" class=\"sk-toggleable__label sk-toggleable__label-arrow\">LogisticRegression</label><div class=\"sk-toggleable__content\"><pre>LogisticRegression(C=1000000.0, max_iter=1000)</pre></div></div></div></div></div>"
      ],
      "text/plain": [
       "LogisticRegression(C=1000000.0, max_iter=1000)"
      ]
     },
     "execution_count": 363,
     "metadata": {},
     "output_type": "execute_result"
    }
   ],
   "source": [
    "model = LogisticRegression(max_iter=1000, C=1e6)\n",
    "model.fit(X=X_train, y=y_train)"
   ]
  },
  {
   "cell_type": "code",
   "execution_count": 364,
   "id": "273c3794",
   "metadata": {},
   "outputs": [
    {
     "name": "stdout",
     "output_type": "stream",
     "text": [
      "              precision    recall  f1-score   support\n",
      "\n",
      "           0       0.98      0.95      0.96       177\n",
      "           1       0.96      0.98      0.97       249\n",
      "\n",
      "    accuracy                           0.97       426\n",
      "   macro avg       0.97      0.97      0.97       426\n",
      "weighted avg       0.97      0.97      0.97       426\n",
      "\n",
      "              precision    recall  f1-score   support\n",
      "\n",
      "           0       0.87      0.97      0.92        35\n",
      "           1       0.99      0.95      0.97       108\n",
      "\n",
      "    accuracy                           0.96       143\n",
      "   macro avg       0.93      0.96      0.95       143\n",
      "weighted avg       0.96      0.96      0.96       143\n",
      "\n"
     ]
    }
   ],
   "source": [
    "from sklearn.metrics import classification_report\n",
    "print(classification_report(y_pred=model.predict(X_train), y_true=y_train))\n",
    "print(classification_report(y_pred=model.predict(X_test), y_true=y_test))"
   ]
  },
  {
   "cell_type": "code",
   "execution_count": 365,
   "id": "c687c3c8",
   "metadata": {},
   "outputs": [
    {
     "data": {
      "text/plain": [
       "['../model.joblib']"
      ]
     },
     "execution_count": 365,
     "metadata": {},
     "output_type": "execute_result"
    }
   ],
   "source": [
    "import joblib\n",
    "joblib.dump(value=model, filename='../model.joblib')"
   ]
  },
  {
   "cell_type": "markdown",
   "id": "11ebd5e3",
   "metadata": {},
   "source": [
    "## Make online features\n",
    "\n",
    "1. materialize: loads the latest features between two dates\n",
    "\n",
    "`feast materialize 2021-01-01T00:00:00 2022-01-01T00:00:00`\n",
    "\n",
    "2. materialize-incremental: loads features up to the provided end date:\n",
    "\n",
    "`feast materialize-incremental 2022-01-01T00:00:00`\n",
    "\n",
    "With `feast materialize-incremental`, the start time either `now - ttl` (the `ttl` that we defined in our feature views) or the time of the most recent materialization. If you've materialized features at least once, then subsequent materializations will only fetch features that weren't present in the store at the time of the previous materializations.\n",
    "\n",
    "If you have several feature rows per entity, Feast will only load the latest values per entity key. As an example, if you have two entries on seperate days for the patient ID 100, only the latest entry will get materialized."
   ]
  },
  {
   "cell_type": "code",
   "execution_count": 344,
   "id": "1219c316",
   "metadata": {},
   "outputs": [
    {
     "name": "stdout",
     "output_type": "stream",
     "text": [
      "Materializing \u001b[1m\u001b[32m5\u001b[0m feature views to \u001b[1m\u001b[32m2022-12-06 14:02:01+07:00\u001b[0m into the \u001b[1m\u001b[32msqlite\u001b[0m online store.\n",
      "\n",
      "\u001b[1m\u001b[32mdf3_feature_view\u001b[0m from \u001b[1m\u001b[32m2022-11-29 07:02:01+07:00\u001b[0m to \u001b[1m\u001b[32m2022-12-06 14:02:01+07:00\u001b[0m:\n"
     ]
    },
    {
     "name": "stderr",
     "output_type": "stream",
     "text": [
      "100%|████████████████████████████████████████████████████████████████| 8/8 [00:00<00:00, 529.32it/s]\n"
     ]
    },
    {
     "name": "stdout",
     "output_type": "stream",
     "text": [
      "\u001b[1m\u001b[32mdf1_feature_view\u001b[0m from \u001b[1m\u001b[32m2022-11-29 07:02:01+07:00\u001b[0m to \u001b[1m\u001b[32m2022-12-06 21:02:01+07:00\u001b[0m:\n"
     ]
    },
    {
     "name": "stderr",
     "output_type": "stream",
     "text": [
      "100%|████████████████████████████████████████████████████████████████| 8/8 [00:00<00:00, 793.89it/s]\n"
     ]
    },
    {
     "name": "stdout",
     "output_type": "stream",
     "text": [
      "\u001b[1m\u001b[32mdf4_feature_view\u001b[0m from \u001b[1m\u001b[32m2022-11-29 07:02:01+07:00\u001b[0m to \u001b[1m\u001b[32m2022-12-06 21:02:01+07:00\u001b[0m:\n"
     ]
    },
    {
     "name": "stderr",
     "output_type": "stream",
     "text": [
      "100%|████████████████████████████████████████████████████████████████| 8/8 [00:00<00:00, 516.20it/s]\n"
     ]
    },
    {
     "name": "stdout",
     "output_type": "stream",
     "text": [
      "\u001b[1m\u001b[32mtarget_feature_view\u001b[0m from \u001b[1m\u001b[32m2022-11-29 07:02:01+07:00\u001b[0m to \u001b[1m\u001b[32m2022-12-06 21:02:01+07:00\u001b[0m:\n"
     ]
    },
    {
     "name": "stderr",
     "output_type": "stream",
     "text": [
      "100%|████████████████████████████████████████████████████████████████| 8/8 [00:00<00:00, 829.22it/s]\n"
     ]
    },
    {
     "name": "stdout",
     "output_type": "stream",
     "text": [
      "\u001b[1m\u001b[32mdf2_feature_view\u001b[0m from \u001b[1m\u001b[32m2022-11-29 07:02:01+07:00\u001b[0m to \u001b[1m\u001b[32m2022-12-06 21:02:01+07:00\u001b[0m:\n"
     ]
    },
    {
     "name": "stderr",
     "output_type": "stream",
     "text": [
      "100%|████████████████████████████████████████████████████████████████| 8/8 [00:00<00:00, 797.17it/s]\n"
     ]
    }
   ],
   "source": [
    "from datetime import datetime, timedelta\n",
    "\n",
    "# Code for loading features to online store between two dates\n",
    "\"\"\"store.materialize(\n",
    "    end_date=datetime.now(),\n",
    "    start_date=datetime.now() - timedelta(days=700))\"\"\"\n",
    "\n",
    "# Loading the latest features after a previous materialize call or from the beginning of time\n",
    "store.materialize_incremental(end_date=datetime.now())"
   ]
  },
  {
   "cell_type": "markdown",
   "id": "9d5b0966",
   "metadata": {},
   "source": [
    "Because the `ttl = 86400 * 7` (7 days), Feast will only load the features from `2022-11-29 07:02:01+07:00` to `2022-12-06 14:02:01+07:00` (now)"
   ]
  },
  {
   "cell_type": "markdown",
   "id": "dd5e8261",
   "metadata": {},
   "source": [
    "# Inference"
   ]
  },
  {
   "cell_type": "code",
   "execution_count": 366,
   "id": "6a67349c",
   "metadata": {},
   "outputs": [
    {
     "data": {
      "text/html": [
       "<div>\n",
       "<style scoped>\n",
       "    .dataframe tbody tr th:only-of-type {\n",
       "        vertical-align: middle;\n",
       "    }\n",
       "\n",
       "    .dataframe tbody tr th {\n",
       "        vertical-align: top;\n",
       "    }\n",
       "\n",
       "    .dataframe thead th {\n",
       "        text-align: right;\n",
       "    }\n",
       "</style>\n",
       "<table border=\"1\" class=\"dataframe\">\n",
       "  <thead>\n",
       "    <tr style=\"text-align: right;\">\n",
       "      <th></th>\n",
       "      <th>patient_id</th>\n",
       "      <th>mean area</th>\n",
       "      <th>mean smoothness</th>\n",
       "      <th>mean radius</th>\n",
       "      <th>mean perimeter</th>\n",
       "      <th>mean texture</th>\n",
       "      <th>mean fractal dimension</th>\n",
       "      <th>mean concave points</th>\n",
       "      <th>mean compactness</th>\n",
       "      <th>mean symmetry</th>\n",
       "      <th>mean concavity</th>\n",
       "      <th>area error</th>\n",
       "      <th>texture error</th>\n",
       "      <th>radius error</th>\n",
       "      <th>concavity error</th>\n",
       "      <th>compactness error</th>\n",
       "      <th>perimeter error</th>\n",
       "      <th>smoothness error</th>\n",
       "      <th>symmetry error</th>\n",
       "      <th>fractal dimension error</th>\n",
       "      <th>worst area</th>\n",
       "      <th>worst fractal dimension</th>\n",
       "      <th>worst compactness</th>\n",
       "      <th>worst perimeter</th>\n",
       "      <th>worst concave points</th>\n",
       "      <th>worst concavity</th>\n",
       "      <th>worst texture</th>\n",
       "      <th>worst radius</th>\n",
       "      <th>worst smoothness</th>\n",
       "      <th>concave points error</th>\n",
       "      <th>worst symmetry</th>\n",
       "    </tr>\n",
       "  </thead>\n",
       "  <tbody>\n",
       "    <tr>\n",
       "      <th>0</th>\n",
       "      <td>568</td>\n",
       "      <td>181.0</td>\n",
       "      <td>0.05263</td>\n",
       "      <td>7.76</td>\n",
       "      <td>47.919998</td>\n",
       "      <td>24.540001</td>\n",
       "      <td>0.05884</td>\n",
       "      <td>0.000</td>\n",
       "      <td>0.04362</td>\n",
       "      <td>0.1587</td>\n",
       "      <td>0.0000</td>\n",
       "      <td>19.150000</td>\n",
       "      <td>1.428</td>\n",
       "      <td>0.3857</td>\n",
       "      <td>0.00000</td>\n",
       "      <td>0.00466</td>\n",
       "      <td>2.548</td>\n",
       "      <td>0.007189</td>\n",
       "      <td>0.02676</td>\n",
       "      <td>0.002783</td>\n",
       "      <td>268.600006</td>\n",
       "      <td>0.07039</td>\n",
       "      <td>0.06444</td>\n",
       "      <td>59.160000</td>\n",
       "      <td>0.000</td>\n",
       "      <td>0.0000</td>\n",
       "      <td>30.370001</td>\n",
       "      <td>9.456</td>\n",
       "      <td>0.08996</td>\n",
       "      <td>0.00000</td>\n",
       "      <td>0.2871</td>\n",
       "    </tr>\n",
       "    <tr>\n",
       "      <th>1</th>\n",
       "      <td>567</td>\n",
       "      <td>1265.0</td>\n",
       "      <td>0.11780</td>\n",
       "      <td>20.60</td>\n",
       "      <td>140.100006</td>\n",
       "      <td>29.330000</td>\n",
       "      <td>0.07016</td>\n",
       "      <td>0.152</td>\n",
       "      <td>0.27700</td>\n",
       "      <td>0.2397</td>\n",
       "      <td>0.3514</td>\n",
       "      <td>86.220001</td>\n",
       "      <td>1.595</td>\n",
       "      <td>0.7260</td>\n",
       "      <td>0.07117</td>\n",
       "      <td>0.06158</td>\n",
       "      <td>5.772</td>\n",
       "      <td>0.006522</td>\n",
       "      <td>0.02324</td>\n",
       "      <td>0.006185</td>\n",
       "      <td>1821.000000</td>\n",
       "      <td>0.12400</td>\n",
       "      <td>0.86810</td>\n",
       "      <td>184.600006</td>\n",
       "      <td>0.265</td>\n",
       "      <td>0.9387</td>\n",
       "      <td>39.419998</td>\n",
       "      <td>25.740</td>\n",
       "      <td>0.16500</td>\n",
       "      <td>0.01664</td>\n",
       "      <td>0.4087</td>\n",
       "    </tr>\n",
       "  </tbody>\n",
       "</table>\n",
       "</div>"
      ],
      "text/plain": [
       "   patient_id  mean area  ...  concave points error  worst symmetry\n",
       "0         568      181.0  ...               0.00000          0.2871\n",
       "1         567     1265.0  ...               0.01664          0.4087\n",
       "\n",
       "[2 rows x 31 columns]"
      ]
     },
     "execution_count": 366,
     "metadata": {},
     "output_type": "execute_result"
    }
   ],
   "source": [
    "features = store.get_online_features(features=feature_v4,\n",
    "                                     entity_rows=[{\"patient_id\": 568}, {\"patient_id\": 567}]).to_dict()\n",
    "\n",
    "features_df = pd.DataFrame.from_dict(data=features)\n",
    "features_df"
   ]
  },
  {
   "cell_type": "code",
   "execution_count": 367,
   "id": "a4005ea3",
   "metadata": {},
   "outputs": [
    {
     "data": {
      "text/html": [
       "<div>\n",
       "<style scoped>\n",
       "    .dataframe tbody tr th:only-of-type {\n",
       "        vertical-align: middle;\n",
       "    }\n",
       "\n",
       "    .dataframe tbody tr th {\n",
       "        vertical-align: top;\n",
       "    }\n",
       "\n",
       "    .dataframe thead th {\n",
       "        text-align: right;\n",
       "    }\n",
       "</style>\n",
       "<table border=\"1\" class=\"dataframe\">\n",
       "  <thead>\n",
       "    <tr style=\"text-align: right;\">\n",
       "      <th></th>\n",
       "      <th>area error</th>\n",
       "      <th>compactness error</th>\n",
       "      <th>concave points error</th>\n",
       "      <th>concavity error</th>\n",
       "      <th>fractal dimension error</th>\n",
       "      <th>mean area</th>\n",
       "      <th>mean compactness</th>\n",
       "      <th>mean concave points</th>\n",
       "      <th>mean concavity</th>\n",
       "      <th>mean fractal dimension</th>\n",
       "      <th>mean perimeter</th>\n",
       "      <th>mean radius</th>\n",
       "      <th>mean smoothness</th>\n",
       "      <th>mean symmetry</th>\n",
       "      <th>mean texture</th>\n",
       "      <th>perimeter error</th>\n",
       "      <th>radius error</th>\n",
       "      <th>smoothness error</th>\n",
       "      <th>symmetry error</th>\n",
       "      <th>texture error</th>\n",
       "      <th>worst area</th>\n",
       "      <th>worst compactness</th>\n",
       "      <th>worst concave points</th>\n",
       "      <th>worst concavity</th>\n",
       "      <th>worst fractal dimension</th>\n",
       "      <th>worst perimeter</th>\n",
       "      <th>worst radius</th>\n",
       "      <th>worst smoothness</th>\n",
       "      <th>worst symmetry</th>\n",
       "      <th>worst texture</th>\n",
       "    </tr>\n",
       "  </thead>\n",
       "  <tbody>\n",
       "    <tr>\n",
       "      <th>0</th>\n",
       "      <td>19.150000</td>\n",
       "      <td>0.00466</td>\n",
       "      <td>0.00000</td>\n",
       "      <td>0.00000</td>\n",
       "      <td>0.002783</td>\n",
       "      <td>181.0</td>\n",
       "      <td>0.04362</td>\n",
       "      <td>0.000</td>\n",
       "      <td>0.0000</td>\n",
       "      <td>0.05884</td>\n",
       "      <td>47.919998</td>\n",
       "      <td>7.76</td>\n",
       "      <td>0.05263</td>\n",
       "      <td>0.1587</td>\n",
       "      <td>24.540001</td>\n",
       "      <td>2.548</td>\n",
       "      <td>0.3857</td>\n",
       "      <td>0.007189</td>\n",
       "      <td>0.02676</td>\n",
       "      <td>1.428</td>\n",
       "      <td>268.600006</td>\n",
       "      <td>0.06444</td>\n",
       "      <td>0.000</td>\n",
       "      <td>0.0000</td>\n",
       "      <td>0.07039</td>\n",
       "      <td>59.160000</td>\n",
       "      <td>9.456</td>\n",
       "      <td>0.08996</td>\n",
       "      <td>0.2871</td>\n",
       "      <td>30.370001</td>\n",
       "    </tr>\n",
       "    <tr>\n",
       "      <th>1</th>\n",
       "      <td>86.220001</td>\n",
       "      <td>0.06158</td>\n",
       "      <td>0.01664</td>\n",
       "      <td>0.07117</td>\n",
       "      <td>0.006185</td>\n",
       "      <td>1265.0</td>\n",
       "      <td>0.27700</td>\n",
       "      <td>0.152</td>\n",
       "      <td>0.3514</td>\n",
       "      <td>0.07016</td>\n",
       "      <td>140.100006</td>\n",
       "      <td>20.60</td>\n",
       "      <td>0.11780</td>\n",
       "      <td>0.2397</td>\n",
       "      <td>29.330000</td>\n",
       "      <td>5.772</td>\n",
       "      <td>0.7260</td>\n",
       "      <td>0.006522</td>\n",
       "      <td>0.02324</td>\n",
       "      <td>1.595</td>\n",
       "      <td>1821.000000</td>\n",
       "      <td>0.86810</td>\n",
       "      <td>0.265</td>\n",
       "      <td>0.9387</td>\n",
       "      <td>0.12400</td>\n",
       "      <td>184.600006</td>\n",
       "      <td>25.740</td>\n",
       "      <td>0.16500</td>\n",
       "      <td>0.4087</td>\n",
       "      <td>39.419998</td>\n",
       "    </tr>\n",
       "  </tbody>\n",
       "</table>\n",
       "</div>"
      ],
      "text/plain": [
       "   area error  compactness error  ...  worst symmetry  worst texture\n",
       "0   19.150000            0.00466  ...          0.2871      30.370001\n",
       "1   86.220001            0.06158  ...          0.4087      39.419998\n",
       "\n",
       "[2 rows x 30 columns]"
      ]
     },
     "execution_count": 367,
     "metadata": {},
     "output_type": "execute_result"
    }
   ],
   "source": [
    "features_df = features_df.drop(\"patient_id\", axis=1)\n",
    "features_df = features_df[feature_fields]\n",
    "features_df"
   ]
  },
  {
   "cell_type": "code",
   "execution_count": 368,
   "id": "cab4038c",
   "metadata": {},
   "outputs": [
    {
     "data": {
      "text/plain": [
       "array([1, 0])"
      ]
     },
     "execution_count": 368,
     "metadata": {},
     "output_type": "execute_result"
    }
   ],
   "source": [
    "model = joblib.load('../model.joblib')\n",
    "predictions = model.predict(features_df)\n",
    "predictions"
   ]
  },
  {
   "cell_type": "code",
   "execution_count": null,
   "id": "533a5b78",
   "metadata": {},
   "outputs": [],
   "source": []
  }
 ],
 "metadata": {
  "kernelspec": {
   "display_name": "feast_env",
   "language": "python",
   "name": "feast_env"
  },
  "language_info": {
   "codemirror_mode": {
    "name": "ipython",
    "version": 3
   },
   "file_extension": ".py",
   "mimetype": "text/x-python",
   "name": "python",
   "nbconvert_exporter": "python",
   "pygments_lexer": "ipython3",
   "version": "3.8.0"
  }
 },
 "nbformat": 4,
 "nbformat_minor": 5
}
